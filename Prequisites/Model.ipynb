{
 "cells": [
  {
   "metadata": {},
   "cell_type": "code",
   "outputs": [],
   "execution_count": null,
   "source": "#Loading dataset\n",
   "id": "6763da877035de58"
  },
  {
   "metadata": {
    "ExecuteTime": {
     "end_time": "2025-05-17T12:41:16.832425Z",
     "start_time": "2025-05-17T12:41:16.827531Z"
    }
   },
   "cell_type": "code",
   "source": [
    "import math\n",
    "\n",
    "from streamlit import title\n",
    "\n",
    "import random\n",
    "import numpy as np\n",
    "import pandas as pd\n",
    "import matplotlib.pyplot as plt"
   ],
   "id": "5e2e9edb8f44522f",
   "outputs": [],
   "execution_count": 4
  },
  {
   "metadata": {},
   "cell_type": "markdown",
   "source": [
    "### Model #1\n",
    "Written in pure python."
   ],
   "id": "44b306c59f2f8ed6"
  },
  {
   "metadata": {
    "ExecuteTime": {
     "end_time": "2025-05-17T17:54:08.902348Z",
     "start_time": "2025-05-17T17:54:08.896228Z"
    }
   },
   "cell_type": "code",
   "source": [
    "class LinearRegression():\n",
    "    def __init__(self, params = 8):\n",
    "        self.w = [random.random() for _ in range(params)]\n",
    "        self.b = 0.0\n",
    "\n",
    "    def predict(self, x):\n",
    "        y_hat = []\n",
    "        for i in x:\n",
    "            y_hat.append( sum(x_i + w_i for x_i, w_i in zip(i, self.w)) + self.b)\n",
    "        return y_hat\n",
    "\n",
    "    def gradients(self, x, y):\n",
    "        m = len(x)\n",
    "        y_hat = self.predict(x)\n",
    "        dj_dw = [0.0] * len(self.w)\n",
    "        dj_db = 0.0\n",
    "\n",
    "        for i in range(m):\n",
    "            error = (y_hat[i] - y[i]) / m\n",
    "            for j in range(len(self.w)):\n",
    "                dj_dw[j] += (error * x[i][j])\n",
    "            dj_db += (error)\n",
    "        return dj_dw, dj_db\n",
    "\n",
    "    def Losses(self, x, y):\n",
    "        m = len(x)\n",
    "        y_hat = self.predict(x)\n",
    "        error = [Y_hat - y for Y_hat, y in zip(y_hat, y)]\n",
    "        mae = sum(abs(er) for er in error) / m\n",
    "        mse = sum(er**2 for er in error) / m\n",
    "        rmse = math.sqrt(mse)\n",
    "        return mae, mse, rmse\n",
    "\n",
    "    def gradient_descent(self, x, y, alpha = 0.001):\n",
    "        dj_dw, dj_db = self.gradients(x, y)\n",
    "        self.w = [W - alpha*dw for W, dw in zip(self.w, dj_dw)]\n",
    "        self.b -= alpha * dj_db\n",
    "        return self.Losses(x, y)\n",
    "\n"
   ],
   "id": "6a97d9ac56659962",
   "outputs": [],
   "execution_count": 16
  },
  {
   "metadata": {
    "ExecuteTime": {
     "end_time": "2025-05-17T19:48:46.505077Z",
     "start_time": "2025-05-17T19:48:46.501066Z"
    }
   },
   "cell_type": "code",
   "source": [
    "def train(model, X, Y, epoch, lr):\n",
    "    mse = []\n",
    "    mae = []\n",
    "    rmse = []\n",
    "    for i in range(epoch):\n",
    "        a, b, c = model.gradient_descent(X, Y, lr)\n",
    "        mse.append(b)\n",
    "        mae.append(a)\n",
    "        rmse.append(c)\n",
    "        print(f\"Epoch:{i+1}\\tMSE:{b:.4f}\\tMAE:{a:.4f}\\tRMSE:{c:.4f}\")\n",
    "    plt.figure(figsize=(12, 8))\n",
    "    plt.plot(mse, label=\"Mean Squared Error\", color=\"red\")\n",
    "    plt.plot(mae, label=\"Mean Absolute Error\", color=\"blue\")\n",
    "    plt.plot(rmse, label=\"Root Mean Squared Error\", color=\"green\")\n",
    "    plt.show()"
   ],
   "id": "ce6e10fc5bceffbb",
   "outputs": [],
   "execution_count": 43
  },
  {
   "metadata": {
    "ExecuteTime": {
     "end_time": "2025-05-17T19:48:46.749751Z",
     "start_time": "2025-05-17T19:48:46.683801Z"
    }
   },
   "cell_type": "code",
   "source": [
    "X = [\n",
    "    [1.2, 2.3, 3.4, 4.5, 5.6, 6.7, 7.8, 8.9],\n",
    "    [9.1, 8.2, 7.3, 6.4, 5.5, 4.6, 3.7, 2.8],\n",
    "    [0.1, 0.2, 0.3, 0.4, 0.5, 0.6, 0.7, 0.8]\n",
    "]\n",
    "Y = [10.0, 20.0, 30.0]\n",
    "Regressor = LinearRegression()\n",
    "train(Regressor, X, Y, 100, 0.0001)"
   ],
   "id": "1d4a68c67ad73224",
   "outputs": [
    {
     "name": "stdout",
     "output_type": "stream",
     "text": [
      "Epoch:1\tMSE:914.4671\tMAE:29.6898\tRMSE:30.2402\n",
      "Epoch:2\tMSE:911.5168\tMAE:29.6574\tRMSE:30.1913\n",
      "Epoch:3\tMSE:908.5948\tMAE:29.6250\tRMSE:30.1429\n",
      "Epoch:4\tMSE:905.7007\tMAE:29.5928\tRMSE:30.0949\n",
      "Epoch:5\tMSE:902.8343\tMAE:29.5606\tRMSE:30.0472\n",
      "Epoch:6\tMSE:899.9955\tMAE:29.5286\tRMSE:29.9999\n",
      "Epoch:7\tMSE:897.1841\tMAE:29.4967\tRMSE:29.9530\n",
      "Epoch:8\tMSE:894.3998\tMAE:29.4648\tRMSE:29.9065\n",
      "Epoch:9\tMSE:891.6424\tMAE:29.4331\tRMSE:29.8604\n",
      "Epoch:10\tMSE:888.9118\tMAE:29.4015\tRMSE:29.8146\n",
      "Epoch:11\tMSE:886.2077\tMAE:29.3699\tRMSE:29.7692\n",
      "Epoch:12\tMSE:883.5299\tMAE:29.3385\tRMSE:29.7242\n",
      "Epoch:13\tMSE:880.8783\tMAE:29.3071\tRMSE:29.6796\n",
      "Epoch:14\tMSE:878.2527\tMAE:29.2759\tRMSE:29.6353\n",
      "Epoch:15\tMSE:875.6528\tMAE:29.2448\tRMSE:29.5914\n",
      "Epoch:16\tMSE:873.0785\tMAE:29.2137\tRMSE:29.5479\n",
      "Epoch:17\tMSE:870.5295\tMAE:29.1828\tRMSE:29.5047\n",
      "Epoch:18\tMSE:868.0058\tMAE:29.1519\tRMSE:29.4619\n",
      "Epoch:19\tMSE:865.5071\tMAE:29.1212\tRMSE:29.4195\n",
      "Epoch:20\tMSE:863.0332\tMAE:29.0905\tRMSE:29.3774\n",
      "Epoch:21\tMSE:860.5839\tMAE:29.0600\tRMSE:29.3357\n",
      "Epoch:22\tMSE:858.1591\tMAE:29.0295\tRMSE:29.2944\n",
      "Epoch:23\tMSE:855.7585\tMAE:28.9991\tRMSE:29.2534\n",
      "Epoch:24\tMSE:853.3820\tMAE:28.9689\tRMSE:29.2127\n",
      "Epoch:25\tMSE:851.0295\tMAE:28.9387\tRMSE:29.1724\n",
      "Epoch:26\tMSE:848.7007\tMAE:28.9086\tRMSE:29.1325\n",
      "Epoch:27\tMSE:846.3954\tMAE:28.8786\tRMSE:29.0929\n",
      "Epoch:28\tMSE:844.1135\tMAE:28.8487\tRMSE:29.0536\n",
      "Epoch:29\tMSE:841.8548\tMAE:28.8189\tRMSE:29.0147\n",
      "Epoch:30\tMSE:839.6191\tMAE:28.7892\tRMSE:28.9762\n",
      "Epoch:31\tMSE:837.4063\tMAE:28.7596\tRMSE:28.9380\n",
      "Epoch:32\tMSE:835.2161\tMAE:28.7301\tRMSE:28.9001\n",
      "Epoch:33\tMSE:833.0485\tMAE:28.7007\tRMSE:28.8626\n",
      "Epoch:34\tMSE:830.9032\tMAE:28.6714\tRMSE:28.8254\n",
      "Epoch:35\tMSE:828.7801\tMAE:28.6421\tRMSE:28.7885\n",
      "Epoch:36\tMSE:826.6790\tMAE:28.6130\tRMSE:28.7520\n",
      "Epoch:37\tMSE:824.5997\tMAE:28.5839\tRMSE:28.7158\n",
      "Epoch:38\tMSE:822.5421\tMAE:28.5550\tRMSE:28.6800\n",
      "Epoch:39\tMSE:820.5060\tMAE:28.5261\tRMSE:28.6445\n",
      "Epoch:40\tMSE:818.4913\tMAE:28.4973\tRMSE:28.6093\n",
      "Epoch:41\tMSE:816.4978\tMAE:28.4687\tRMSE:28.5744\n",
      "Epoch:42\tMSE:814.5253\tMAE:28.4401\tRMSE:28.5399\n",
      "Epoch:43\tMSE:812.5736\tMAE:28.4116\tRMSE:28.5057\n",
      "Epoch:44\tMSE:810.6427\tMAE:28.3831\tRMSE:28.4718\n",
      "Epoch:45\tMSE:808.7323\tMAE:28.3548\tRMSE:28.4382\n",
      "Epoch:46\tMSE:806.8423\tMAE:28.3266\tRMSE:28.4050\n",
      "Epoch:47\tMSE:804.9726\tMAE:28.2984\tRMSE:28.3720\n",
      "Epoch:48\tMSE:803.1229\tMAE:28.2704\tRMSE:28.3394\n",
      "Epoch:49\tMSE:801.2932\tMAE:28.2424\tRMSE:28.3071\n",
      "Epoch:50\tMSE:799.4833\tMAE:28.2145\tRMSE:28.2751\n",
      "Epoch:51\tMSE:797.6930\tMAE:28.1867\tRMSE:28.2435\n",
      "Epoch:52\tMSE:795.9222\tMAE:28.1590\tRMSE:28.2121\n",
      "Epoch:53\tMSE:794.1708\tMAE:28.1314\tRMSE:28.1810\n",
      "Epoch:54\tMSE:792.4385\tMAE:28.1039\tRMSE:28.1503\n",
      "Epoch:55\tMSE:790.7253\tMAE:28.0764\tRMSE:28.1198\n",
      "Epoch:56\tMSE:789.0309\tMAE:28.0491\tRMSE:28.0897\n",
      "Epoch:57\tMSE:787.3554\tMAE:28.0218\tRMSE:28.0599\n",
      "Epoch:58\tMSE:785.6984\tMAE:27.9946\tRMSE:28.0303\n",
      "Epoch:59\tMSE:784.0599\tMAE:27.9675\tRMSE:28.0011\n",
      "Epoch:60\tMSE:782.4397\tMAE:27.9405\tRMSE:27.9721\n",
      "Epoch:61\tMSE:780.8377\tMAE:27.9135\tRMSE:27.9435\n",
      "Epoch:62\tMSE:779.2537\tMAE:27.8867\tRMSE:27.9151\n",
      "Epoch:63\tMSE:777.6877\tMAE:27.8599\tRMSE:27.8871\n",
      "Epoch:64\tMSE:776.1394\tMAE:27.8333\tRMSE:27.8593\n",
      "Epoch:65\tMSE:774.6088\tMAE:27.8067\tRMSE:27.8318\n",
      "Epoch:66\tMSE:773.0956\tMAE:27.7802\tRMSE:27.8046\n",
      "Epoch:67\tMSE:771.5998\tMAE:27.7537\tRMSE:27.7777\n",
      "Epoch:68\tMSE:770.1213\tMAE:27.7274\tRMSE:27.7511\n",
      "Epoch:69\tMSE:768.6598\tMAE:27.7011\tRMSE:27.7247\n",
      "Epoch:70\tMSE:767.2153\tMAE:27.6750\tRMSE:27.6987\n",
      "Epoch:71\tMSE:765.7876\tMAE:27.6489\tRMSE:27.6729\n",
      "Epoch:72\tMSE:764.3766\tMAE:27.6229\tRMSE:27.6474\n",
      "Epoch:73\tMSE:762.9822\tMAE:27.5969\tRMSE:27.6221\n",
      "Epoch:74\tMSE:761.6042\tMAE:27.5711\tRMSE:27.5972\n",
      "Epoch:75\tMSE:760.2426\tMAE:27.5453\tRMSE:27.5725\n",
      "Epoch:76\tMSE:758.8971\tMAE:27.5196\tRMSE:27.5481\n",
      "Epoch:77\tMSE:757.5677\tMAE:27.4940\tRMSE:27.5239\n",
      "Epoch:78\tMSE:756.2542\tMAE:27.4685\tRMSE:27.5001\n",
      "Epoch:79\tMSE:754.9566\tMAE:27.4431\tRMSE:27.4765\n",
      "Epoch:80\tMSE:753.6746\tMAE:27.4177\tRMSE:27.4531\n",
      "Epoch:81\tMSE:752.4082\tMAE:27.3924\tRMSE:27.4301\n",
      "Epoch:82\tMSE:751.1572\tMAE:27.3672\tRMSE:27.4072\n",
      "Epoch:83\tMSE:749.9216\tMAE:27.3421\tRMSE:27.3847\n",
      "Epoch:84\tMSE:748.7012\tMAE:27.3171\tRMSE:27.3624\n",
      "Epoch:85\tMSE:747.4958\tMAE:27.2921\tRMSE:27.3404\n",
      "Epoch:86\tMSE:746.3054\tMAE:27.2672\tRMSE:27.3186\n",
      "Epoch:87\tMSE:745.1299\tMAE:27.2424\tRMSE:27.2971\n",
      "Epoch:88\tMSE:743.9691\tMAE:27.2177\tRMSE:27.2758\n",
      "Epoch:89\tMSE:742.8229\tMAE:27.1930\tRMSE:27.2548\n",
      "Epoch:90\tMSE:741.6912\tMAE:27.1684\tRMSE:27.2340\n",
      "Epoch:91\tMSE:740.5739\tMAE:27.1439\tRMSE:27.2135\n",
      "Epoch:92\tMSE:739.4709\tMAE:27.1195\tRMSE:27.1932\n",
      "Epoch:93\tMSE:738.3820\tMAE:27.0952\tRMSE:27.1732\n",
      "Epoch:94\tMSE:737.3072\tMAE:27.0709\tRMSE:27.1534\n",
      "Epoch:95\tMSE:736.2463\tMAE:27.0467\tRMSE:27.1339\n",
      "Epoch:96\tMSE:735.1993\tMAE:27.0226\tRMSE:27.1146\n",
      "Epoch:97\tMSE:734.1659\tMAE:26.9986\tRMSE:27.0955\n",
      "Epoch:98\tMSE:733.1462\tMAE:26.9746\tRMSE:27.0767\n",
      "Epoch:99\tMSE:732.1400\tMAE:26.9507\tRMSE:27.0581\n",
      "Epoch:100\tMSE:731.1472\tMAE:26.9269\tRMSE:27.0397\n"
     ]
    },
    {
     "data": {
      "text/plain": [
       "<Figure size 1200x800 with 1 Axes>"
      ],
      "image/png": "[encoded data removed]"
     },
     "metadata": {},
     "output_type": "display_data"
    }
   ],
   "execution_count": 44
  },
  {
   "metadata": {},
   "cell_type": "markdown",
   "source": [
    "### Model 2\n",
    "Using Numpy\n"
   ],
   "id": "232d2bc653b5ae74"
  },
  {
   "metadata": {},
   "cell_type": "code",
   "outputs": [],
   "execution_count": null,
   "source": [
    "class LinearRegression_np():\n",
    "    def __init__(self, params = 8):\n",
    "        self.w = np.random.randn()\n",
    "        self.b = np.random.randn()    #ts is useful for deep learning Imma try to use it here les see\n",
    "\n",
    "    def predict(self, X):\n",
    "        y_hat = np.dot(X, self.w) + self.b\n",
    "        return y_hat\n",
    "\n",
    "    def gradients(self, X, y):\n",
    "        m = X.shape[0]\n",
    "        y_hat = self.predict(X)\n",
    "        error = y_hat - y\n",
    "        dj_dw = (1/m) * X.T @ error\n",
    "        dj_db = (1/m) * np.sum(error)\n",
    "\n",
    "        return dj_dw, dj_db\n",
    "\n",
    "    def losses(self, X, y):\n",
    "        y_hat = self.predict(X)\n",
    "        error = y_hat - y\n",
    "        mae = np.mean(np.abs(error))\n",
    "        mse = np.mean(np.square(error))\n",
    "        rmse = np.sqrt(mse)\n",
    "\n",
    "        return mae, mse, rmse\n",
    "\n",
    "    def gradient_descent(self, X, y, alpha = 0.001):\n",
    "        dj_dw, dj_db = self.gradients(X, y)\n",
    "        self.w -= alpha * dj_db\n",
    "        self.b -= alpha * dj_dw\n",
    "\n",
    "        return self.losses(X, y)"
   ],
   "id": "1f28442b6b8c8f9d"
  },
  {
   "metadata": {
    "ExecuteTime": {
     "end_time": "2025-05-17T19:37:31.247625Z",
     "start_time": "2025-05-17T19:37:31.237265Z"
    }
   },
   "cell_type": "code",
   "source": [
    "def train_np(model, X, Y, epoch, lr):\n",
    "    mse = []\n",
    "    mae = []\n",
    "    rmse = []\n",
    "\n",
    "    for i in range(epoch):\n",
    "        a, b, c = model.gradient_descent(X, Y, lr)\n",
    "        mae.append(b)\n",
    "        mse.append(a)\n",
    "        rmse.append(c)\n",
    "\n",
    "    plt.figure(figsize=(12, 8))\n",
    "    plt.plot(mse, label=\"Mean Squared Error\", color=\"red\")\n",
    "    plt.plot(mae, label=\"Mean Absolute Error\", color=\"blue\")\n",
    "    plt.plot(rmse, label=\"Root Mean Squared Error\", color=\"green\")\n",
    "    plt.show()"
   ],
   "id": "1e342aeaef6d6684",
   "outputs": [],
   "execution_count": 40
  },
  {
   "metadata": {},
   "cell_type": "code",
   "outputs": [],
   "execution_count": null,
   "source": "",
   "id": "57a9adbcaf2eb812"
  },
  {
   "metadata": {},
   "cell_type": "markdown",
   "source": [
    "### Model 3\n",
    "Using Sklearn\n"
   ],
   "id": "2b239028f6f49214"
  },
  {
   "metadata": {},
   "cell_type": "code",
   "outputs": [],
   "execution_count": null,
   "source": "import sklearn",
   "id": "12e4d35f096dfb71"
  }
 ],
 "metadata": {
  "kernelspec": {
   "display_name": "Python 3",
   "language": "python",
   "name": "python3"
  },
  "language_info": {
   "codemirror_mode": {
    "name": "ipython",
    "version": 2
   },
   "file_extension": ".py",
   "mimetype": "text/x-python",
   "name": "python",
   "nbconvert_exporter": "python",
   "pygments_lexer": "ipython2",
   "version": "2.7.6"
  }
 },
 "nbformat": 4,
 "nbformat_minor": 5
}
